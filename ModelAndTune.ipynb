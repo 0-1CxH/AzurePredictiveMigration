{
 "cells": [
  {
   "cell_type": "code",
   "execution_count": 226,
   "metadata": {},
   "outputs": [],
   "source": [
    "import pandas as pd\n",
    "import numpy as np\n",
    "\n",
    "from sklearn.model_selection import train_test_split\n",
    "from sklearn.linear_model import LogisticRegression\n",
    "from sklearn.metrics import roc_auc_score, accuracy_score, confusion_matrix\n",
    "import pickle"
   ]
  },
  {
   "cell_type": "code",
   "execution_count": 227,
   "metadata": {},
   "outputs": [],
   "source": [
    "maints = pd.read_csv(\"maints.csv\")\n",
    "nMaints = pd.read_csv(\"notMaints.csv\")\n",
    "maints = maints.drop(columns=[\"machineID\",\"Unnamed: 0\",\"maint_comp\"])\n",
    "maints['maint'] = 1\n",
    "nMaints = nMaints.drop(columns=[ \"Unnamed: 0\" ] )\n",
    "nMaints['maint'] = 0"
   ]
  },
  {
   "cell_type": "code",
   "execution_count": 229,
   "metadata": {},
   "outputs": [],
   "source": [
    "oversampleMaints = maints.sample(frac=0.2, replace=True)\n",
    "undersampleNMaints = nMaints.sample(frac=0.5)\n",
    "allsamples = pd.concat([oversampleMaints,undersampleNMaints],axis=0)\n",
    "allsamples.to_csv(\"simulation2.csv\")"
   ]
  },
  {
   "cell_type": "code",
   "execution_count": 108,
   "metadata": {},
   "outputs": [],
   "source": [
    "oversampleMaints = maints.sample(frac=2.0, replace=True)\n",
    "undersampleNMaints = nMaints.sample(frac=0.2)\n",
    "allsamples = pd.concat([oversampleMaints,undersampleNMaints],axis=0)\n",
    "x = allsamples.drop(columns=['maint'])\n",
    "y = allsamples['maint']\n",
    "x_train, x_test, y_train, y_test = train_test_split(x, y, test_size=0.2, random_state=42)"
   ]
  },
  {
   "cell_type": "code",
   "execution_count": 204,
   "metadata": {},
   "outputs": [],
   "source": [
    "# want to minimize False Negative\n",
    "def get_acc_fn(w):\n",
    "    model = LogisticRegression(penalty='l2',class_weight={0:1-w,1:w},max_iter=4000)\n",
    "    model.fit(x_train,y_train)\n",
    "    acc = accuracy_score( y,model.predict(x))\n",
    "    cm = confusion_matrix(y, model.predict(x))\n",
    "    FN = cm[1][0] / y.shape[0]\n",
    "    return acc, FN\n",
    "\n",
    "def tune_acc_fn():\n",
    "    args_list = []\n",
    "    for w in np.arange(0.01,1,0.01):\n",
    "        args_list.append(get_acc_fn(w))\n",
    "    return np.array(args_list)"
   ]
  },
  {
   "cell_type": "code",
   "execution_count": 205,
   "metadata": {},
   "outputs": [],
   "source": [
    "allargs = tune_acc_fn()"
   ]
  },
  {
   "cell_type": "code",
   "execution_count": 206,
   "metadata": {
    "scrolled": true
   },
   "outputs": [
    {
     "data": {
      "text/plain": [
       "<matplotlib.collections.PathCollection at 0x12d027c50>"
      ]
     },
     "execution_count": 206,
     "metadata": {},
     "output_type": "execute_result"
    },
    {
     "data": {
      "image/png": "[encoded data removed]",
      "text/plain": [
       "<Figure size 432x288 with 1 Axes>"
      ]
     },
     "metadata": {
      "needs_background": "light"
     },
     "output_type": "display_data"
    }
   ],
   "source": [
    "plt.scatter(allargs[:,0],allargs[:,1])"
   ]
  },
  {
   "cell_type": "code",
   "execution_count": 210,
   "metadata": {},
   "outputs": [
    {
     "name": "stdout",
     "output_type": "stream",
     "text": [
      "85 69\n"
     ]
    }
   ],
   "source": [
    "print(np.argmin(allargs[:,1]),np.argmax(allargs[:,0]))"
   ]
  },
  {
   "cell_type": "code",
   "execution_count": 212,
   "metadata": {},
   "outputs": [
    {
     "data": {
      "text/plain": [
       "array([[9.06811311e-01, 2.13409212e-02],\n",
       "       [9.06811311e-01, 1.77841010e-02],\n",
       "       [9.06188867e-01, 1.49386449e-02],\n",
       "       [9.05299662e-01, 1.24488707e-02],\n",
       "       [9.02720967e-01, 1.08483016e-02],\n",
       "       [9.01565001e-01, 8.09176596e-03],\n",
       "       [8.98363863e-01, 6.75795839e-03],\n",
       "       [8.94629201e-01, 5.24630980e-03],\n",
       "       [8.91694825e-01, 3.82358172e-03],\n",
       "       [8.87337720e-01, 3.82358172e-03],\n",
       "       [8.81024364e-01, 3.20113818e-03],\n",
       "       [8.77111862e-01, 2.66761515e-03],\n",
       "       [8.72932598e-01, 1.68948960e-03],\n",
       "       [8.69464699e-01, 1.24488707e-03],\n",
       "       [8.66174640e-01, 7.11364041e-04],\n",
       "       [8.62351058e-01, 8.89205051e-05],\n",
       "       [8.57549351e-01, 0.00000000e+00]])"
      ]
     },
     "execution_count": 212,
     "metadata": {},
     "output_type": "execute_result"
    }
   ],
   "source": [
    "allargs[69:86]"
   ]
  },
  {
   "cell_type": "code",
   "execution_count": 211,
   "metadata": {},
   "outputs": [
    {
     "data": {
      "text/plain": [
       "<matplotlib.collections.PathCollection at 0x12d04efd0>"
      ]
     },
     "execution_count": 211,
     "metadata": {},
     "output_type": "execute_result"
    },
    {
     "data": {
      "image/png": "[encoded data removed]",
      "text/plain": [
       "<Figure size 432x288 with 1 Axes>"
      ]
     },
     "metadata": {
      "needs_background": "light"
     },
     "output_type": "display_data"
    }
   ],
   "source": [
    "plt.scatter(allargs[60:80,0],allargs[60:80,1])"
   ]
  },
  {
   "cell_type": "code",
   "execution_count": 213,
   "metadata": {},
   "outputs": [
    {
     "data": {
      "text/plain": [
       "LogisticRegression(class_weight={0: 0.74, 1: 0.74}, max_iter=4000)"
      ]
     },
     "execution_count": 213,
     "metadata": {},
     "output_type": "execute_result"
    }
   ],
   "source": [
    "OPT_ARG = 0.74\n",
    "OPT_model = LogisticRegression(penalty='l2',class_weight={0:OPT_ARG,1:OPT_ARG}, max_iter=4000)\n",
    "OPT_model.fit(x,y)"
   ]
  },
  {
   "cell_type": "code",
   "execution_count": 225,
   "metadata": {},
   "outputs": [],
   "source": [
    "model_file = open(\"PredictiveMigration.pkl\",\"wb\")\n",
    "model_file.write(pickle.dumps(OPT_model))\n",
    "model_file.close()"
   ]
  }
 ],
 "metadata": {
  "kernelspec": {
   "display_name": "Python 3",
   "language": "python",
   "name": "python3"
  },
  "language_info": {
   "codemirror_mode": {
    "name": "ipython",
    "version": 3
   },
   "file_extension": ".py",
   "mimetype": "text/x-python",
   "name": "python",
   "nbconvert_exporter": "python",
   "pygments_lexer": "ipython3",
   "version": "3.7.4"
  }
 },
 "nbformat": 4,
 "nbformat_minor": 2
}
